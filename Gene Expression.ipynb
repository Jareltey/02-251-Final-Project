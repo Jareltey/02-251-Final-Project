{
 "cells": [
  {
   "cell_type": "markdown",
   "id": "af1dad1c",
   "metadata": {},
   "source": [
    "## Loading raw gene counts into dataframe"
   ]
  },
  {
   "cell_type": "code",
   "execution_count": 61,
   "id": "8dfdd58e",
   "metadata": {},
   "outputs": [
    {
     "name": "stdout",
     "output_type": "stream",
     "text": [
      "The autoreload extension is already loaded. To reload it, use:\n",
      "  %reload_ext autoreload\n"
     ]
    }
   ],
   "source": [
    "%load_ext autoreload\n",
    "%autoreload 2\n",
    "import pandas as pd \n",
    "import numpy as np\n",
    "import matplotlib.pyplot as plt\n",
    "%matplotlib inline"
   ]
  },
  {
   "cell_type": "code",
   "execution_count": 62,
   "id": "a8414d0d",
   "metadata": {},
   "outputs": [],
   "source": [
    "df_mostcommon1 = pd.read_table('mostcommon1.htseq.counts.txt')\n",
    "df_mostcommon2 = pd.read_table('mostcommon2.htseq.counts.txt')\n",
    "df_mostcommon3 = pd.read_table('mostcommon3.htseq.counts.txt')\n",
    "df_leastcommon1 = pd.read_table('leastcommon1.htseq_counts.txt')\n",
    "df_leastcommon2 = pd.read_table('leastcommon2.htseq_counts.txt')\n",
    "df_leastcommon3 = pd.read_table('leastcommon3.htseq_counts.txt')"
   ]
  },
  {
   "cell_type": "code",
   "execution_count": 63,
   "id": "8e26127b",
   "metadata": {},
   "outputs": [
    {
     "data": {
      "text/html": [
       "<div>\n",
       "<style scoped>\n",
       "    .dataframe tbody tr th:only-of-type {\n",
       "        vertical-align: middle;\n",
       "    }\n",
       "\n",
       "    .dataframe tbody tr th {\n",
       "        vertical-align: top;\n",
       "    }\n",
       "\n",
       "    .dataframe thead th {\n",
       "        text-align: right;\n",
       "    }\n",
       "</style>\n",
       "<table border=\"1\" class=\"dataframe\">\n",
       "  <thead>\n",
       "    <tr style=\"text-align: right;\">\n",
       "      <th></th>\n",
       "      <th>id</th>\n",
       "      <th>mc_1</th>\n",
       "      <th>mc_2</th>\n",
       "      <th>mc_3</th>\n",
       "      <th>lc_1</th>\n",
       "      <th>lc_2</th>\n",
       "      <th>lc_3</th>\n",
       "    </tr>\n",
       "  </thead>\n",
       "  <tbody>\n",
       "    <tr>\n",
       "      <th>0</th>\n",
       "      <td>ENSG00000000003.13</td>\n",
       "      <td>3994</td>\n",
       "      <td>2283</td>\n",
       "      <td>5112</td>\n",
       "      <td>274</td>\n",
       "      <td>74</td>\n",
       "      <td>14</td>\n",
       "    </tr>\n",
       "    <tr>\n",
       "      <th>1</th>\n",
       "      <td>ENSG00000000005.5</td>\n",
       "      <td>2377</td>\n",
       "      <td>11</td>\n",
       "      <td>47</td>\n",
       "      <td>116</td>\n",
       "      <td>32</td>\n",
       "      <td>0</td>\n",
       "    </tr>\n",
       "    <tr>\n",
       "      <th>2</th>\n",
       "      <td>ENSG00000000419.11</td>\n",
       "      <td>1483</td>\n",
       "      <td>3387</td>\n",
       "      <td>4822</td>\n",
       "      <td>1445</td>\n",
       "      <td>473</td>\n",
       "      <td>0</td>\n",
       "    </tr>\n",
       "    <tr>\n",
       "      <th>3</th>\n",
       "      <td>ENSG00000000457.12</td>\n",
       "      <td>1248</td>\n",
       "      <td>1998</td>\n",
       "      <td>1185</td>\n",
       "      <td>1447</td>\n",
       "      <td>348</td>\n",
       "      <td>0</td>\n",
       "    </tr>\n",
       "    <tr>\n",
       "      <th>4</th>\n",
       "      <td>ENSG00000000460.15</td>\n",
       "      <td>239</td>\n",
       "      <td>1089</td>\n",
       "      <td>3734</td>\n",
       "      <td>2184</td>\n",
       "      <td>209</td>\n",
       "      <td>0</td>\n",
       "    </tr>\n",
       "  </tbody>\n",
       "</table>\n",
       "</div>"
      ],
      "text/plain": [
       "                   id  mc_1  mc_2  mc_3  lc_1  lc_2  lc_3\n",
       "0  ENSG00000000003.13  3994  2283  5112   274    74    14\n",
       "1   ENSG00000000005.5  2377    11    47   116    32     0\n",
       "2  ENSG00000000419.11  1483  3387  4822  1445   473     0\n",
       "3  ENSG00000000457.12  1248  1998  1185  1447   348     0\n",
       "4  ENSG00000000460.15   239  1089  3734  2184   209     0"
      ]
     },
     "execution_count": 63,
     "metadata": {},
     "output_type": "execute_result"
    }
   ],
   "source": [
    "df = df_mostcommon1.merge(df_mostcommon2,'outer','id').merge(df_mostcommon3,'outer','id').merge(df_leastcommon1,'outer','id').merge(df_leastcommon2,'outer','id').merge(df_leastcommon3,'outer','id')\n",
    "df.head()"
   ]
  },
  {
   "cell_type": "markdown",
   "id": "e06e5de8",
   "metadata": {},
   "source": [
    "## Verifying most genes not differentially expressed with histogram plots of ratios"
   ]
  },
  {
   "cell_type": "code",
   "execution_count": 66,
   "id": "c612aa00",
   "metadata": {},
   "outputs": [],
   "source": [
    "df['geo_mean'] = np.sqrt(df['mc_1']*df['lc_1'])\n",
    "df['mc_1_ratios'] = df['mc_1']/df['geo_mean']\n",
    "df['lc_1_ratios'] = df['lc_1']/df['geo_mean']"
   ]
  },
  {
   "cell_type": "code",
   "execution_count": 67,
   "id": "a7d82462",
   "metadata": {},
   "outputs": [
    {
     "data": {
      "text/plain": [
       "1.1338934190276817"
      ]
     },
     "execution_count": 67,
     "metadata": {},
     "output_type": "execute_result"
    }
   ],
   "source": [
    "df[df['mc_1_ratios'] < 10000]['mc_1_ratios'].median()"
   ]
  },
  {
   "cell_type": "code",
   "execution_count": 68,
   "id": "2308dae5",
   "metadata": {},
   "outputs": [
    {
     "data": {
      "image/png": "[encoded data removed]",
      "text/plain": [
       "<Figure size 432x288 with 1 Axes>"
      ]
     },
     "metadata": {
      "needs_background": "light"
     },
     "output_type": "display_data"
    }
   ],
   "source": [
    "plt.hist(df[df['mc_1_ratios'] < 10000]['mc_1_ratios'],bins=[i/10 for i in range (40)])\n",
    "plt.xlabel(\"Ratios for primary ductal breast cancer sample\")\n",
    "plt.ylabel(\"Frequency\")\n",
    "\n",
    "plt.text(2,1000,\"Median = 1.134\",bbox={'facecolor': 'orange', 'alpha': 0.5, 'pad': 5})\n",
    "plt.show()"
   ]
  },
  {
   "cell_type": "code",
   "execution_count": 69,
   "id": "71ff35c0",
   "metadata": {},
   "outputs": [
    {
     "data": {
      "text/plain": [
       "0.8819171036881969"
      ]
     },
     "execution_count": 69,
     "metadata": {},
     "output_type": "execute_result"
    }
   ],
   "source": [
    "df[df['lc_1_ratios'] < 10000]['lc_1_ratios'].median()"
   ]
  },
  {
   "cell_type": "code",
   "execution_count": 70,
   "id": "85e0a9d1",
   "metadata": {},
   "outputs": [
    {
     "data": {
      "image/png": "[encoded data removed]",
      "text/plain": [
       "<Figure size 432x288 with 1 Axes>"
      ]
     },
     "metadata": {
      "needs_background": "light"
     },
     "output_type": "display_data"
    }
   ],
   "source": [
    "plt.hist(df[df['lc_1_ratios'] < 10000]['lc_1_ratios'],bins=[i/10 for i in range (40)])\n",
    "plt.xlabel(\"Ratios for angiosarcoma sample\")\n",
    "plt.ylabel(\"Frequency\")\n",
    "\n",
    "plt.text(2,1000,\"Median = 0.882\",bbox={'facecolor': 'orange', 'alpha': 0.5, 'pad': 5})\n",
    "plt.show()"
   ]
  },
  {
   "cell_type": "markdown",
   "id": "6ac1d766",
   "metadata": {},
   "source": [
    "## Data preprocessing for DESeq gene expression analysis "
   ]
  },
  {
   "cell_type": "code",
   "execution_count": 72,
   "id": "aba37ee3",
   "metadata": {},
   "outputs": [
    {
     "data": {
      "text/html": [
       "<div>\n",
       "<style scoped>\n",
       "    .dataframe tbody tr th:only-of-type {\n",
       "        vertical-align: middle;\n",
       "    }\n",
       "\n",
       "    .dataframe tbody tr th {\n",
       "        vertical-align: top;\n",
       "    }\n",
       "\n",
       "    .dataframe thead th {\n",
       "        text-align: right;\n",
       "    }\n",
       "</style>\n",
       "<table border=\"1\" class=\"dataframe\">\n",
       "  <thead>\n",
       "    <tr style=\"text-align: right;\">\n",
       "      <th></th>\n",
       "      <th>samplename</th>\n",
       "      <th>sample</th>\n",
       "      <th>replicate</th>\n",
       "    </tr>\n",
       "    <tr>\n",
       "      <th>samplename</th>\n",
       "      <th></th>\n",
       "      <th></th>\n",
       "      <th></th>\n",
       "    </tr>\n",
       "  </thead>\n",
       "  <tbody>\n",
       "    <tr>\n",
       "      <th>mc_1</th>\n",
       "      <td>mc_1</td>\n",
       "      <td>mc</td>\n",
       "      <td>1</td>\n",
       "    </tr>\n",
       "    <tr>\n",
       "      <th>mc_2</th>\n",
       "      <td>mc_2</td>\n",
       "      <td>mc</td>\n",
       "      <td>2</td>\n",
       "    </tr>\n",
       "    <tr>\n",
       "      <th>mc_3</th>\n",
       "      <td>mc_3</td>\n",
       "      <td>mc</td>\n",
       "      <td>3</td>\n",
       "    </tr>\n",
       "    <tr>\n",
       "      <th>lc_1</th>\n",
       "      <td>lc_1</td>\n",
       "      <td>lc</td>\n",
       "      <td>1</td>\n",
       "    </tr>\n",
       "    <tr>\n",
       "      <th>lc_2</th>\n",
       "      <td>lc_2</td>\n",
       "      <td>lc</td>\n",
       "      <td>2</td>\n",
       "    </tr>\n",
       "    <tr>\n",
       "      <th>lc_3</th>\n",
       "      <td>lc_3</td>\n",
       "      <td>lc</td>\n",
       "      <td>3</td>\n",
       "    </tr>\n",
       "  </tbody>\n",
       "</table>\n",
       "</div>"
      ],
      "text/plain": [
       "           samplename sample replicate\n",
       "samplename                            \n",
       "mc_1             mc_1     mc         1\n",
       "mc_2             mc_2     mc         2\n",
       "mc_3             mc_3     mc         3\n",
       "lc_1             lc_1     lc         1\n",
       "lc_2             lc_2     lc         2\n",
       "lc_3             lc_3     lc         3"
      ]
     },
     "execution_count": 72,
     "metadata": {},
     "output_type": "execute_result"
    }
   ],
   "source": [
    "df = df.drop(labels=['geo_mean','mc_1_ratios','lc_1_ratios'],axis=1)\n",
    "sample_df = pd.DataFrame({'samplename': df.columns}) \\\n",
    "        .query('samplename != \"id\"')\\\n",
    "        .assign(sample = lambda d: d.samplename.str.extract('([ml]c)_', expand=False)) \\\n",
    "        .assign(replicate = lambda d: d.samplename.str.extract('_([123])', expand=False)) \n",
    "sample_df.index = sample_df.samplename\n",
    "sample_df"
   ]
  },
  {
   "cell_type": "code",
   "execution_count": 73,
   "id": "e1b7fb5c",
   "metadata": {},
   "outputs": [
    {
     "name": "stderr",
     "output_type": "stream",
     "text": [
      "WARNING:rpy2.rinterface_lib.callbacks:R[write to console]: estimating size factors\n",
      "\n",
      "WARNING:rpy2.rinterface_lib.callbacks:R[write to console]: estimating dispersions\n",
      "\n",
      "WARNING:rpy2.rinterface_lib.callbacks:R[write to console]: gene-wise dispersion estimates\n",
      "\n",
      "WARNING:rpy2.rinterface_lib.callbacks:R[write to console]: mean-dispersion relationship\n",
      "\n",
      "WARNING:rpy2.rinterface_lib.callbacks:R[write to console]: final dispersion estimates\n",
      "\n",
      "WARNING:rpy2.rinterface_lib.callbacks:R[write to console]: fitting model and testing\n",
      "\n",
      "INFO:DESeq2:Using contrast: ['sample', 'mc', 'lc']\n"
     ]
    },
    {
     "data": {
      "text/html": [
       "<div>\n",
       "<style scoped>\n",
       "    .dataframe tbody tr th:only-of-type {\n",
       "        vertical-align: middle;\n",
       "    }\n",
       "\n",
       "    .dataframe tbody tr th {\n",
       "        vertical-align: top;\n",
       "    }\n",
       "\n",
       "    .dataframe thead th {\n",
       "        text-align: right;\n",
       "    }\n",
       "</style>\n",
       "<table border=\"1\" class=\"dataframe\">\n",
       "  <thead>\n",
       "    <tr style=\"text-align: right;\">\n",
       "      <th></th>\n",
       "      <th>baseMean</th>\n",
       "      <th>log2FoldChange</th>\n",
       "      <th>lfcSE</th>\n",
       "      <th>stat</th>\n",
       "      <th>pvalue</th>\n",
       "      <th>padj</th>\n",
       "      <th>id</th>\n",
       "    </tr>\n",
       "  </thead>\n",
       "  <tbody>\n",
       "    <tr>\n",
       "      <th>ENSG00000000003.13</th>\n",
       "      <td>820.983313</td>\n",
       "      <td>2.878645</td>\n",
       "      <td>1.047790</td>\n",
       "      <td>2.747350</td>\n",
       "      <td>0.006008</td>\n",
       "      <td>0.037182</td>\n",
       "      <td>ENSG00000000003.13</td>\n",
       "    </tr>\n",
       "    <tr>\n",
       "      <th>ENSG00000000005.5</th>\n",
       "      <td>211.020812</td>\n",
       "      <td>1.102680</td>\n",
       "      <td>1.526393</td>\n",
       "      <td>0.722409</td>\n",
       "      <td>0.470043</td>\n",
       "      <td>0.644708</td>\n",
       "      <td>ENSG00000000005.5</td>\n",
       "    </tr>\n",
       "    <tr>\n",
       "      <th>ENSG00000000419.11</th>\n",
       "      <td>809.022387</td>\n",
       "      <td>1.634711</td>\n",
       "      <td>1.382216</td>\n",
       "      <td>1.182674</td>\n",
       "      <td>0.236938</td>\n",
       "      <td>0.416514</td>\n",
       "      <td>ENSG00000000419.11</td>\n",
       "    </tr>\n",
       "    <tr>\n",
       "      <th>ENSG00000000457.12</th>\n",
       "      <td>486.402116</td>\n",
       "      <td>1.152420</td>\n",
       "      <td>1.303157</td>\n",
       "      <td>0.884329</td>\n",
       "      <td>0.376519</td>\n",
       "      <td>0.559944</td>\n",
       "      <td>ENSG00000000457.12</td>\n",
       "    </tr>\n",
       "    <tr>\n",
       "      <th>ENSG00000000460.15</th>\n",
       "      <td>558.459257</td>\n",
       "      <td>0.395425</td>\n",
       "      <td>1.500216</td>\n",
       "      <td>0.263579</td>\n",
       "      <td>0.792104</td>\n",
       "      <td>0.880028</td>\n",
       "      <td>ENSG00000000460.15</td>\n",
       "    </tr>\n",
       "  </tbody>\n",
       "</table>\n",
       "</div>"
      ],
      "text/plain": [
       "                      baseMean  log2FoldChange     lfcSE      stat    pvalue  \\\n",
       "ENSG00000000003.13  820.983313        2.878645  1.047790  2.747350  0.006008   \n",
       "ENSG00000000005.5   211.020812        1.102680  1.526393  0.722409  0.470043   \n",
       "ENSG00000000419.11  809.022387        1.634711  1.382216  1.182674  0.236938   \n",
       "ENSG00000000457.12  486.402116        1.152420  1.303157  0.884329  0.376519   \n",
       "ENSG00000000460.15  558.459257        0.395425  1.500216  0.263579  0.792104   \n",
       "\n",
       "                        padj                  id  \n",
       "ENSG00000000003.13  0.037182  ENSG00000000003.13  \n",
       "ENSG00000000005.5   0.644708   ENSG00000000005.5  \n",
       "ENSG00000000419.11  0.416514  ENSG00000000419.11  \n",
       "ENSG00000000457.12  0.559944  ENSG00000000457.12  \n",
       "ENSG00000000460.15  0.880028  ENSG00000000460.15  "
      ]
     },
     "execution_count": 73,
     "metadata": {},
     "output_type": "execute_result"
    }
   ],
   "source": [
    "from diffexpr.py_deseq import py_DESeq2\n",
    "\n",
    "dds = py_DESeq2(count_matrix = df,\n",
    "               design_matrix = sample_df,\n",
    "               design_formula = '~ replicate + sample',\n",
    "               gene_column = 'id') # <- telling DESeq2 this should be the gene ID column\n",
    "    \n",
    "dds.run_deseq() \n",
    "dds.get_deseq_result(contrast = ['sample','mc','lc'])\n",
    "res = dds.deseq_result\n",
    "res.head()"
   ]
  },
  {
   "cell_type": "markdown",
   "id": "4bf85e3d",
   "metadata": {},
   "source": [
    "## Visualizing results"
   ]
  },
  {
   "cell_type": "code",
   "execution_count": 74,
   "id": "d5a78315",
   "metadata": {},
   "outputs": [],
   "source": [
    "import bioinfokit\n",
    "from bioinfokit import analys, visuz"
   ]
  },
  {
   "cell_type": "code",
   "execution_count": 75,
   "id": "32483309",
   "metadata": {},
   "outputs": [],
   "source": [
    "df = res.drop(labels=['baseMean','lfcSE','stat','padj'],axis=1)\n",
    "df = df.dropna(subset=['log2FoldChange'])"
   ]
  },
  {
   "cell_type": "code",
   "execution_count": 83,
   "id": "23786c33",
   "metadata": {},
   "outputs": [
    {
     "data": {
      "text/html": [
       "<div>\n",
       "<style scoped>\n",
       "    .dataframe tbody tr th:only-of-type {\n",
       "        vertical-align: middle;\n",
       "    }\n",
       "\n",
       "    .dataframe tbody tr th {\n",
       "        vertical-align: top;\n",
       "    }\n",
       "\n",
       "    .dataframe thead th {\n",
       "        text-align: right;\n",
       "    }\n",
       "</style>\n",
       "<table border=\"1\" class=\"dataframe\">\n",
       "  <thead>\n",
       "    <tr style=\"text-align: right;\">\n",
       "      <th></th>\n",
       "      <th>log2FoldChange</th>\n",
       "      <th>pvalue</th>\n",
       "      <th>id</th>\n",
       "    </tr>\n",
       "  </thead>\n",
       "  <tbody>\n",
       "    <tr>\n",
       "      <th>ENSG00000000003.13</th>\n",
       "      <td>2.878645</td>\n",
       "      <td>0.006008</td>\n",
       "      <td>ENSG00000000003.13</td>\n",
       "    </tr>\n",
       "    <tr>\n",
       "      <th>ENSG00000000005.5</th>\n",
       "      <td>1.102680</td>\n",
       "      <td>0.470043</td>\n",
       "      <td>ENSG00000000005.5</td>\n",
       "    </tr>\n",
       "    <tr>\n",
       "      <th>ENSG00000000419.11</th>\n",
       "      <td>1.634711</td>\n",
       "      <td>0.236938</td>\n",
       "      <td>ENSG00000000419.11</td>\n",
       "    </tr>\n",
       "    <tr>\n",
       "      <th>ENSG00000000457.12</th>\n",
       "      <td>1.152420</td>\n",
       "      <td>0.376519</td>\n",
       "      <td>ENSG00000000457.12</td>\n",
       "    </tr>\n",
       "    <tr>\n",
       "      <th>ENSG00000000460.15</th>\n",
       "      <td>0.395425</td>\n",
       "      <td>0.792104</td>\n",
       "      <td>ENSG00000000460.15</td>\n",
       "    </tr>\n",
       "  </tbody>\n",
       "</table>\n",
       "</div>"
      ],
      "text/plain": [
       "                    log2FoldChange    pvalue                  id\n",
       "ENSG00000000003.13        2.878645  0.006008  ENSG00000000003.13\n",
       "ENSG00000000005.5         1.102680  0.470043   ENSG00000000005.5\n",
       "ENSG00000000419.11        1.634711  0.236938  ENSG00000000419.11\n",
       "ENSG00000000457.12        1.152420  0.376519  ENSG00000000457.12\n",
       "ENSG00000000460.15        0.395425  0.792104  ENSG00000000460.15"
      ]
     },
     "execution_count": 83,
     "metadata": {},
     "output_type": "execute_result"
    }
   ],
   "source": [
    "df.head()"
   ]
  },
  {
   "cell_type": "code",
   "execution_count": 76,
   "id": "9af9f71d",
   "metadata": {},
   "outputs": [
    {
     "data": {
      "text/plain": [
       "19140"
      ]
     },
     "execution_count": 76,
     "metadata": {},
     "output_type": "execute_result"
    }
   ],
   "source": [
    "len(df[df['log2FoldChange'] > 0])"
   ]
  },
  {
   "cell_type": "code",
   "execution_count": 77,
   "id": "b2dabe79",
   "metadata": {},
   "outputs": [
    {
     "data": {
      "text/plain": [
       "22340"
      ]
     },
     "execution_count": 77,
     "metadata": {},
     "output_type": "execute_result"
    }
   ],
   "source": [
    "len(df[df['log2FoldChange'] < 0])"
   ]
  },
  {
   "cell_type": "code",
   "execution_count": 78,
   "id": "57fabf79",
   "metadata": {},
   "outputs": [],
   "source": [
    "min_pvalues = []\n",
    "\n",
    "for i in range(30):\n",
    "\n",
    "    min_pvalues.append(df.pvalue.nsmallest(i+1).iloc[-1])\n",
    "    \n",
    "min_pvalues_genesIDs = []\n",
    "\n",
    "for pvalue in min_pvalues:\n",
    "    \n",
    "    min_pvalues_genesIDs.append(df[df['pvalue'] == pvalue].index[0])"
   ]
  },
  {
   "cell_type": "code",
   "execution_count": 79,
   "id": "ebab806a",
   "metadata": {},
   "outputs": [],
   "source": [
    "geneID_to_name = dict()\n",
    "\n",
    "geneID_to_name.update([('ENSG00000200087.1','SNORA73B')])\n",
    "geneID_to_name.update([('ENSG00000238741.1','SCARNA7')])\n",
    "geneID_to_name.update([('ENSG00000198712.1','MT-CO2')])\n",
    "geneID_to_name.update([('ENSG00000198804.2','MT-CO1')])\n",
    "geneID_to_name.update([('ENSG00000198763.3','MT-ND2')])\n",
    "geneID_to_name.update([('ENSG00000198899.2','MT-ATP6')])\n",
    "geneID_to_name.update([('ENSG00000252010.1','SCARNA5')])\n",
    "geneID_to_name.update([('ENSG00000215156.5','AC138409.1')])\n",
    "geneID_to_name.update([('ENSG00000198727.2','MT-CYB')])\n",
    "geneID_to_name.update([('ENSG00000198888.2','MT-ND1')])\n",
    "geneID_to_name.update([('ENSG00000212232.1','SNORD17')])\n",
    "geneID_to_name.update([('ENSG00000198938.2','MT-CO3')])\n",
    "geneID_to_name.update([('ENSG00000198886.2','MT-ND4')])\n",
    "geneID_to_name.update([('ENSG00000199477.1','SNORA31')])\n",
    "geneID_to_name.update([('ENSG00000198840.2','MT-ND3')])\n",
    "geneID_to_name.update([('ENSG00000212402.1','SNORA74B')])\n",
    "geneID_to_name.update([('ENSG00000207445.1','SNORD15B')])\n",
    "geneID_to_name.update([('ENSG00000198695.2','MT-ND6')])\n",
    "geneID_to_name.update([('ENSG00000212907.2','MT-ND4L')])\n",
    "geneID_to_name.update([('ENSG00000143520.6','FLG2')])\n",
    "geneID_to_name.update([('ENSG00000221491.2','SNORA2C')])\n",
    "geneID_to_name.update([('ENSG00000198786.2','MT-ND5')])\n",
    "geneID_to_name.update([('ENSG00000208892.1','SNORA49')])\n",
    "geneID_to_name.update([('ENSG00000251733.1','SCARNA8')])\n",
    "geneID_to_name.update([('ENSG00000200354.1','SNORA71D')])\n",
    "geneID_to_name.update([('ENSG00000228253.1','MT-ATP8')])\n",
    "geneID_to_name.update([('ENSG00000248527.1','MTATP6P1')])\n",
    "geneID_to_name.update([('ENSG00000212283.1','SNORD89')])\n",
    "geneID_to_name.update([('ENSG00000200959.1','SNORA74A')])\n",
    "geneID_to_name.update([('ENSG00000233974.3','AC138951.1')])"
   ]
  },
  {
   "cell_type": "code",
   "execution_count": 80,
   "id": "4d9c2580",
   "metadata": {},
   "outputs": [],
   "source": [
    "visuz.gene_exp.volcano(df=df, lfc='log2FoldChange', pv='pvalue',lfc_thr=(8, 8),pv_thr=(0.00000000001, 0.00000000001), geneid='id', genenames=geneID_to_name, gstyle=2,sign_line=True)"
   ]
  }
 ],
 "metadata": {
  "kernelspec": {
   "display_name": "Python 3",
   "language": "python",
   "name": "python3"
  },
  "language_info": {
   "codemirror_mode": {
    "name": "ipython",
    "version": 3
   },
   "file_extension": ".py",
   "mimetype": "text/x-python",
   "name": "python",
   "nbconvert_exporter": "python",
   "pygments_lexer": "ipython3",
   "version": "3.6.13"
  }
 },
 "nbformat": 4,
 "nbformat_minor": 5
}
